{
 "cells": [
  {
   "cell_type": "markdown",
   "id": "209216c2",
   "metadata": {},
   "source": [
    "Q1. Calculate the 95% confidence interval for a sample of data with a mean of 50 and a standard deviation\n",
    "of 5 using Python. Interpret the results."
   ]
  },
  {
   "cell_type": "code",
   "execution_count": 28,
   "id": "9705cf7f",
   "metadata": {},
   "outputs": [],
   "source": [
    "import math"
   ]
  },
  {
   "cell_type": "code",
   "execution_count": 39,
   "id": "34e06037",
   "metadata": {},
   "outputs": [
    {
     "name": "stdout",
     "output_type": "stream",
     "text": [
      "the 95% confidence interval for a sample of data with a mean of 50 and a standard deviation of 5:(48.76, 51.24)\n"
     ]
    }
   ],
   "source": [
    "# given sample mean 50,standard deviation=5, as no of sample is not given so we can assume it as n=44\n",
    "def confindence_interval(sample_mean,standard_deviation,sample_size):\n",
    "\n",
    "    #confidenceinterval=sample_mean +- margin_of_error\n",
    "    std_error=standard_deviation/sample_size**0.5\n",
    "    margin_of_error=1.645*std_error  # z=1.645 for c.i=95\n",
    "    \n",
    "    upper_level=sample_mean + margin_of_error\n",
    "    lower_level=sample_mean-margin_of_error\n",
    "    return round(lower_level,4),round(upper_level,4)\n",
    "print(f\"the 95% confidence interval for a sample of data with a mean of 50 and a standard deviation of 5:{confindence_interval(50,5,44)}\")"
   ]
  },
  {
   "cell_type": "code",
   "execution_count": 40,
   "id": "ff39a67f",
   "metadata": {},
   "outputs": [
    {
     "data": {
      "text/plain": [
       "(48.76, 51.24)"
      ]
     },
     "execution_count": 40,
     "metadata": {},
     "output_type": "execute_result"
    }
   ],
   "source": [
    "confindence_interval(50,5,44)"
   ]
  },
  {
   "cell_type": "markdown",
   "id": "4cb9a966",
   "metadata": {},
   "source": [
    "Q2. Conduct a chi-square goodness of fit test to determine if the distribution of colors of M&Ms in a bag\n",
    "matches the expected distribution of 20% blue, 20% orange, 20% green, 10% yellow, 10% red, and 20%\n",
    "brown. Use Python to perform the test with a significance level of 0.05."
   ]
  },
  {
   "cell_type": "code",
   "execution_count": 26,
   "id": "12993024",
   "metadata": {},
   "outputs": [
    {
     "name": "stdout",
     "output_type": "stream",
     "text": [
      "Chi-square test statistic:18.2619\n",
      "p-value:0.0026\n",
      "Reject the null hypothesis. The observed frequencies do not follow the expected distribution.\n"
     ]
    }
   ],
   "source": [
    "import scipy.stats as stats\n",
    "import numpy as np\n",
    "from scipy.stats import chisquare\n",
    "\n",
    "observed_value=[10,14,13,15,17,15]\n",
    "expected_values=[0.2,0.2,0.2,0.1,0.1,0.2]\n",
    "\n",
    "n=sum(observed_value)\n",
    "expected_frequency=[exp*n for exp in expected_values]\n",
    "\n",
    "test_statistic,p_value=chisquare(observed_value,expected_frequency)\n",
    "\n",
    "alpha=0.05\n",
    "print(f\"Chi-square test statistic:{test_statistic:.4f}\")\n",
    "print(f\"p-value:{p_value:.4f}\")\n",
    "\n",
    "if p_value<alpha:\n",
    "     print(\"Reject the null hypothesis. The observed frequencies do not follow the expected distribution.\")\n",
    "else:\n",
    "    print(\"Fail to reject the null hypothesis. The observed frequencies follow the expected distribution.\")\n"
   ]
  },
  {
   "cell_type": "markdown",
   "id": "12b5b01d",
   "metadata": {},
   "source": [
    "Q3. Use Python to calculate the chi-square statistic and p-value for a contingency table with the following\n",
    "data:"
   ]
  },
  {
   "attachments": {
    "image.png": {
     "image/png": "[encoded data removed]"
    }
   },
   "cell_type": "markdown",
   "id": "37cb6bc9",
   "metadata": {},
   "source": [
    "![image.png](attachment:image.png)"
   ]
  },
  {
   "cell_type": "code",
   "execution_count": 37,
   "id": "00e69fcf",
   "metadata": {},
   "outputs": [
    {
     "name": "stdout",
     "output_type": "stream",
     "text": [
      "chi2_contigency:5.8333\n",
      "p-value:0.0541\n"
     ]
    }
   ],
   "source": [
    "import numpy as np\n",
    "from scipy.stats import chi2_contingency\n",
    "\n",
    "observed=np.array([[20,10,15],\n",
    "                  [15,25,20]])\n",
    "stat,pval,dof,expected=chi2_contingency(observed)\n",
    "\n",
    "print(f\"chi2_contigency:{stat:.4f}\")\n",
    "print(f\"p-value:{pval:.4f}\")\n"
   ]
  },
  {
   "cell_type": "markdown",
   "id": "54b09b21",
   "metadata": {},
   "source": [
    "Q4. A study of the prevalence of smoking in a population of 500 individuals found that 60 individuals\n",
    "smoked. Use Python to calculate the 95% confidence interval for the true proportion of individuals in the\n",
    "population who smoke."
   ]
  },
  {
   "cell_type": "code",
   "execution_count": 49,
   "id": "0578f781",
   "metadata": {},
   "outputs": [
    {
     "name": "stdout",
     "output_type": "stream",
     "text": [
      "95% confidence interval for the true proportion of individuals in the population who smoke:[0.1485,0.0915]\n"
     ]
    }
   ],
   "source": [
    "import math\n",
    "import scipy.stats as st\n",
    "#given \n",
    "n=500 # sample size\n",
    "x=60 # no of individual who smokes\n",
    "p=x/n\n",
    "z=st.norm.ppf(0.975)\n",
    "std_error=math.sqrt(p*(1-p)/n)\n",
    "margin_of_error=z*std_error\n",
    "upper_level=p+margin_of_error\n",
    "lower_level=p-margin_of_error\n",
    "\n",
    "print(\"95% confidence interval for the true proportion of individuals in the population who smoke:[{:.4f},{:.4f}]\".format(upper_level,lower_level))"
   ]
  },
  {
   "cell_type": "markdown",
   "id": "b896ea1d",
   "metadata": {},
   "source": [
    "Q5. Calculate the 90% confidence interval for a sample of data with a mean of 75 and a standard deviation\n",
    "of 12 using Python. Interpret the results.\n",
    "\n"
   ]
  },
  {
   "cell_type": "code",
   "execution_count": 53,
   "id": "915637bd",
   "metadata": {},
   "outputs": [
    {
     "name": "stdout",
     "output_type": "stream",
     "text": [
      "the 90% confidence interval for a sample of data with a mean of 75 and a standard deviation of 12:(71.396, 78.604)\n"
     ]
    }
   ],
   "source": [
    "# given: sample_mean=75,std=12,n=30(assuming)\n",
    "import math\n",
    "def confidence_interval(sample_mean,std,sample_size):\n",
    "    std_error=std/math.sqrt(sample_size)\n",
    "    margin_error=1.645*std_error #Z=1.645 for 90%\n",
    "    upper_ci=sample_mean+margin_error\n",
    "    lower_ci=sample_mean-margin_error\n",
    "    return round(lower_level,4),round(upper_level,4)\n",
    "print(f\"the 90% confidence interval for a sample of data with a mean of 75 and a standard deviation of 12:{confindence_interval(75,12,30)}\")\n"
   ]
  },
  {
   "cell_type": "code",
   "execution_count": 59,
   "id": "4f14419c",
   "metadata": {},
   "outputs": [],
   "source": [
    "import scipy.stats as stats"
   ]
  },
  {
   "cell_type": "code",
   "execution_count": 64,
   "id": "7c2004f9",
   "metadata": {},
   "outputs": [
    {
     "name": "stdout",
     "output_type": "stream",
     "text": [
      "The 90% confidence interval for a sample of data with a mean of 75 and a standard deviation of 12: (71.3963, 78.6037)\n"
     ]
    }
   ],
   "source": [
    "import scipy.stats as stats\n",
    "\n",
    "# given\n",
    "sample_mean = 75\n",
    "standard_deviation = 12\n",
    "n = 30  # assuming sample size\n",
    "\n",
    "std_error = standard_deviation / (n ** 0.5)\n",
    "lower_ci, upper_ci = stats.norm.interval(alpha=0.9, loc=sample_mean, scale=std_error)\n",
    "\n",
    "print(f\"The 90% confidence interval for a sample of data with a mean of 75 and a standard deviation of 12: ({lower_ci:.4f}, {upper_ci:.4f})\")\n"
   ]
  },
  {
   "cell_type": "markdown",
   "id": "b15f2943",
   "metadata": {},
   "source": [
    "Q6. Use Python to plot the chi-square distribution with 10 degrees of freedom. Label the axes and shade the\n",
    "area corresponding to a chi-square statistic of 15"
   ]
  },
  {
   "cell_type": "code",
   "execution_count": 81,
   "id": "336b7afb",
   "metadata": {},
   "outputs": [
    {
     "data": {
      "image/png": "[encoded data removed]",
      "text/plain": [
       "<Figure size 432x288 with 1 Axes>"
      ]
     },
     "metadata": {
      "needs_background": "light"
     },
     "output_type": "display_data"
    }
   ],
   "source": [
    "import numpy as np\n",
    "import matplotlib.pyplot as plt\n",
    "import scipy.stats as stats\n",
    "\n",
    "# Define the degrees of freedom\n",
    "df = 10\n",
    "\n",
    "# Define the x-axis range\n",
    "x = np.linspace(0, 30, 1000)\n",
    "\n",
    "# Create the chi-square distribution with df degrees of freedom\n",
    "chi2 = stats.chi2(df)\n",
    "\n",
    "# Plot the chi-square distribution\n",
    "plt.plot(x, chi2.pdf(x), label='Chi-square PDF')\n",
    "\n",
    "# Shade the area corresponding to a chi-square statistic of 15\n",
    "x_shade = np.linspace(15, 30, 1000)\n",
    "plt.fill_between(x_shade, chi2.pdf(x_shade), 0, alpha=0.3)\n",
    "\n",
    "# Label the axes and add a legend\n",
    "plt.xlabel('Chi-square statistic')\n",
    "plt.ylabel('Probability density')\n",
    "plt.legend()\n",
    "\n",
    "# Show the plot\n",
    "plt.show()\n"
   ]
  },
  {
   "cell_type": "code",
   "execution_count": 82,
   "id": "8a4ccee0",
   "metadata": {},
   "outputs": [
    {
     "data": {
      "text/plain": [
       "<scipy.stats._distn_infrastructure.rv_frozen at 0x14c6df8e430>"
      ]
     },
     "execution_count": 82,
     "metadata": {},
     "output_type": "execute_result"
    }
   ],
   "source": [
    "chi2"
   ]
  },
  {
   "cell_type": "markdown",
   "id": "96e83223",
   "metadata": {},
   "source": [
    "Q7. A random sample of 1000 people was asked if they preferred Coke or Pepsi. Of the sample, 520\n",
    "preferred Coke. Calculate a 99% confidence interval for the true proportion of people in the population who\n",
    "prefer Coke.\n",
    "\n"
   ]
  },
  {
   "cell_type": "code",
   "execution_count": 90,
   "id": "0e7dcd42",
   "metadata": {},
   "outputs": [
    {
     "name": "stdout",
     "output_type": "stream",
     "text": [
      "99% confidence interval for the true proportion of people in the population who prefer Coke:(0.5607,0.4793)\n"
     ]
    }
   ],
   "source": [
    "import scipy.stats as stats\n",
    "\n",
    "#given \n",
    "sample_size=1000\n",
    "x=520 # who prefered coke\n",
    "ci=.99\n",
    "alpha=0.01\n",
    "p=x/sample_size\n",
    "z=stats.norm.ppf(0.005)\n",
    "std_error=math.sqrt(p*(1-p)/sample_size)\n",
    "margin_error=z*std_error\n",
    "upper_ci=p+margin_error\n",
    "lower_ci=p-margin_error\n",
    "print(f\"99% confidence interval for the true proportion of people in the population who prefer Coke:({lower_ci:.4f},{upper_ci:.4f})\")"
   ]
  },
  {
   "cell_type": "code",
   "execution_count": 86,
   "id": "fe98ea9c",
   "metadata": {},
   "outputs": [
    {
     "data": {
      "text/plain": [
       "0.52"
      ]
     },
     "execution_count": 86,
     "metadata": {},
     "output_type": "execute_result"
    }
   ],
   "source": []
  },
  {
   "cell_type": "markdown",
   "id": "8489d5c1",
   "metadata": {},
   "source": [
    "Q8. A researcher hypothesizes that a coin is biased towards tails. They flip the coin 100 times and observe\n",
    "45 tails. Conduct a chi-square goodness of fit test to determine if the observed frequencies match the\n",
    "expected frequencies of a fair coin. Use a significance level of 0.05."
   ]
  },
  {
   "cell_type": "code",
   "execution_count": 98,
   "id": "0a1d39db",
   "metadata": {},
   "outputs": [
    {
     "name": "stdout",
     "output_type": "stream",
     "text": [
      "Fail to reject the null hypothesis. The observed frequencies match the expected frequencies of a fair coin.\n",
      "chi-square test_stattistic:1.0000\n",
      "p-value:0.3173\n"
     ]
    }
   ],
   "source": [
    "import numpy as np\n",
    "from scipy.stats import chisquare\n",
    "\n",
    "observed=np.array([55,45])\n",
    "expected=np.array([50,50])\n",
    "test_statistic,p_value=chisquare(observed,expected)\n",
    "alpha=0.05\n",
    "if p_value < alpha:\n",
    "    print(\"Reject the null hypothesis. The observed frequencies do not match the expected frequencies of a fair coin.\")\n",
    "else:\n",
    "    print(\"Fail to reject the null hypothesis. The observed frequencies match the expected frequencies of a fair coin.\")\n",
    "print(f\"chi-square test_stattistic:{test_statistic:.4f}\")\n",
    "print(f\"p-value:{p_value:.4f}\")"
   ]
  },
  {
   "cell_type": "markdown",
   "id": "d2ba6a13",
   "metadata": {},
   "source": [
    "Q9. A study was conducted to determine if there is an association between smoking status (smoker or\n",
    "non-smoker) and lung cancer diagnosis (yes or no). The results are shown in the contingency table below.\n",
    "Conduct a chi-square test for independence to determine if there is a significant association between\n",
    "smoking status and lung cancer diagnosis.\n",
    "\n"
   ]
  },
  {
   "attachments": {
    "image.png": {
     "image/png": "[encoded data removed]"
    }
   },
   "cell_type": "markdown",
   "id": "58634b39",
   "metadata": {},
   "source": [
    "![image.png](attachment:image.png)"
   ]
  },
  {
   "cell_type": "code",
   "execution_count": 100,
   "id": "4dd0f3b5",
   "metadata": {},
   "outputs": [
    {
     "name": "stdout",
     "output_type": "stream",
     "text": [
      "chi2_contigency:12.0573\n",
      "p-value:0.0005\n",
      "there is no significant association between smoking status and lung cancer diagnosis.\n"
     ]
    }
   ],
   "source": [
    "import numpy as np\n",
    "from scipy.stats import chi2_contingency\n",
    "\n",
    "observed=np.array([[60,140],\n",
    "                  [30,170]])\n",
    "stat,pval,dof,expected=chi2_contingency(observed)\n",
    "alpha=0.05\n",
    "\n",
    "print(f\"chi2_contigency:{stat:.4f}\")\n",
    "print(f\"p-value:{pval:.4f}\")\n",
    "if p_value<alpha:\n",
    "    print(\"there is a significant association between smoking status and lung cancer diagnosis.\")\n",
    "else:\n",
    "    print(\"there is no significant association between smoking status and lung cancer diagnosis.\")"
   ]
  },
  {
   "cell_type": "markdown",
   "id": "62fb91b3",
   "metadata": {},
   "source": [
    "Q10. A study was conducted to determine if the proportion of people who prefer milk chocolate, dark\n",
    "chocolate, or white chocolate is different in the U.S. versus the U.K. A random sample of 500 people from\n",
    "the U.S. and a random sample of 500 people from the U.K. were surveyed. The results are shown in the\n",
    "contingency table below. Conduct a chi-square test for independence to determine if there is a significant\n",
    "association between chocolate preference and country of origin."
   ]
  },
  {
   "attachments": {
    "image.png": {
     "image/png": "[encoded data removed]"
    }
   },
   "cell_type": "markdown",
   "id": "4916a91e",
   "metadata": {},
   "source": [
    "![image.png](attachment:image.png)"
   ]
  },
  {
   "cell_type": "code",
   "execution_count": 104,
   "id": "a2244c06",
   "metadata": {},
   "outputs": [
    {
     "name": "stdout",
     "output_type": "stream",
     "text": [
      "chi2_contigency:13.3937\n",
      "p-value:0.0012\n",
      "there is no significant association between chocolate preference and country of origin.\n"
     ]
    }
   ],
   "source": [
    "import numpy as np\n",
    "from scipy.stats import chi2_contingency\n",
    "\n",
    "observed=np.array([[200,150,150],\n",
    "                  [225,175,100]])\n",
    "stat,pval,dof,expected=chi2_contingency(observed)\n",
    "alpha=0.01\n",
    "\n",
    "print(f\"chi2_contigency:{stat:.4f}\")\n",
    "print(f\"p-value:{pval:.4f}\")\n",
    "if p_value<alpha:\n",
    "    print(\"there is a significant association between chocolate preference and country of origin.\")\n",
    "else:\n",
    "    print(\"there is no significant association between chocolate preference and country of origin.\")"
   ]
  },
  {
   "cell_type": "markdown",
   "id": "f40bd24a",
   "metadata": {},
   "source": [
    "Q11. A random sample of 30 people was selected from a population with an unknown mean and standard\n",
    "deviation. The sample mean was found to be 72 and the sample standard deviation was found to be 10.\n",
    "Conduct a hypothesis test to determine if the population mean is significantly different from 70. Use a\n",
    "significance level of 0.05."
   ]
  },
  {
   "cell_type": "code",
   "execution_count": 127,
   "id": "c197106b",
   "metadata": {},
   "outputs": [
    {
     "name": "stdout",
     "output_type": "stream",
     "text": [
      "Null Hypothesis: The population mean is equal to 70.\n",
      "Alternative Hypothesis: The population mean is not equal to 70.\n",
      "Sample Mean: 72\n",
      "Hypothesized Mean: 70\n",
      "Sample Standard Deviation: 10\n",
      "Sample Size: 30\n",
      "Test Statistic: 1.0954451150103321\n",
      "Degrees of Freedom: 29\n",
      "p-value: 0.28233623728606977\n",
      "Conclusion: We fail to reject the null hypothesis.\n"
     ]
    }
   ],
   "source": [
    "import scipy.stats as stats\n",
    "\n",
    "# Step 1: Define the null and alternative hypothesis\n",
    "null_hypothesis = \"The population mean is equal to 70.\"\n",
    "alternative_hypothesis = \"The population mean is not equal to 70.\"\n",
    "\n",
    "# Step 2: Calculate the test statistic\n",
    "sample_mean = 72\n",
    "hypothesized_mean = 70\n",
    "sample_standard_deviation = 10\n",
    "sample_size = 30\n",
    "test_statistic = (sample_mean - hypothesized_mean) / (sample_standard_deviation / (sample_size ** 0.5))\n",
    "\n",
    "# Step 3: Calculate the p-value\n",
    "degrees_of_freedom = sample_size - 1\n",
    "p_value = stats.t.sf(abs(test_statistic), degrees_of_freedom) * 2\n",
    "\n",
    "# Step 4: Compare the p-value to the significance level\n",
    "significance_level = 0.05\n",
    "if p_value < significance_level:\n",
    "    conclusion = \"We reject the null hypothesis.\"\n",
    "else:\n",
    "    conclusion = \"We fail to reject the null hypothesis.\"\n",
    "\n",
    "# Step 5: Draw a conclusion and interpret the results\n",
    "print(\"Null Hypothesis:\", null_hypothesis)\n",
    "print(\"Alternative Hypothesis:\", alternative_hypothesis)\n",
    "print(\"Sample Mean:\", sample_mean)\n",
    "print(\"Hypothesized Mean:\", hypothesized_mean)\n",
    "print(\"Sample Standard Deviation:\", sample_standard_deviation)\n",
    "print(\"Sample Size:\", sample_size)\n",
    "print(\"Test Statistic:\", test_statistic)\n",
    "print(\"Degrees of Freedom:\", degrees_of_freedom)\n",
    "print(\"p-value:\", p_value)\n",
    "print(\"Conclusion:\", conclusion)\n"
   ]
  },
  {
   "cell_type": "code",
   "execution_count": null,
   "id": "2d701349",
   "metadata": {},
   "outputs": [],
   "source": []
  }
 ],
 "metadata": {
  "kernelspec": {
   "display_name": "Python 3 (ipykernel)",
   "language": "python",
   "name": "python3"
  },
  "language_info": {
   "codemirror_mode": {
    "name": "ipython",
    "version": 3
   },
   "file_extension": ".py",
   "mimetype": "text/x-python",
   "name": "python",
   "nbconvert_exporter": "python",
   "pygments_lexer": "ipython3",
   "version": "3.9.12"
  }
 },
 "nbformat": 4,
 "nbformat_minor": 5
}
