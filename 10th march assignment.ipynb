{
 "cells": [
  {
   "cell_type": "markdown",
   "id": "1a198907",
   "metadata": {},
   "source": [
    "Q1: What is Estimation Statistics? Explain point estimate and interval estimate."
   ]
  },
  {
   "cell_type": "markdown",
   "id": "4095b0dc",
   "metadata": {},
   "source": [
    "Estimation statistics is a branch of inferential statistics that deals with estimating population parameters based on sample data. In other words, estimation statistics involves making inferences about an unknown population parameter using information from a sample.\n",
    "\n",
    "Point estimate refers to a single value that is used to estimate a population parameter. For example, the sample mean can be used as a point estimate for the population mean. The advantage of a point estimate is that it provides a simple and straightforward estimate of the population parameter. However, it does not provide any information about the uncertainty or variability of the estimate.\n",
    "\n",
    "Interval estimate, on the other hand, provides a range of values that is likely to contain the true population parameter. The most common form of interval estimate is the confidence interval, which is a range of values that is likely to contain the true population parameter with a certain level of confidence. For example, a 95% confidence interval for the population mean provides a range of values that is likely to contain the true population mean with 95% confidence. The advantage of an interval estimate is that it provides information about the uncertainty or variability of the estimate, which is not provided by a point estimate."
   ]
  },
  {
   "cell_type": "markdown",
   "id": "e8221d4f",
   "metadata": {},
   "source": [
    "Q2. Write a Python function to estimate the population mean using a sample mean and standard\n",
    "deviation."
   ]
  },
  {
   "cell_type": "code",
   "execution_count": 106,
   "id": "7d84d42e",
   "metadata": {},
   "outputs": [],
   "source": [
    "def estimate_population_mean(sample_mean,standard_deviation,samplesize):\n",
    "    std_error=(standard_deviation/samplesize**0.5)\n",
    "    margin_error=1.96*std_error # z=1.96 for CI=1.95\n",
    "    lower_boundary=sample_mean-margin_error\n",
    "    upper_boundary=sample_mean+margin_error\n",
    "    return lower_boundary,upper_boundary\n"
   ]
  },
  {
   "cell_type": "code",
   "execution_count": 131,
   "id": "6accba93",
   "metadata": {},
   "outputs": [
    {
     "data": {
      "text/plain": [
       "(3.5842212126623103, 4.41577878733769)"
      ]
     },
     "execution_count": 131,
     "metadata": {},
     "output_type": "execute_result"
    }
   ],
   "source": [
    "estimate_population_mean(4,1.5,50)"
   ]
  },
  {
   "cell_type": "markdown",
   "id": "88e3d9ac",
   "metadata": {},
   "source": [
    "Q3: What is Hypothesis testing? Why is it used? State the importance of Hypothesis testing\n",
    "ChatGPT\n"
   ]
  },
  {
   "cell_type": "markdown",
   "id": "7c3dc83e",
   "metadata": {},
   "source": [
    "Hypothesis testing is a statistical method used to make decisions about a population based on sample data. It involves formulating two competing hypotheses, the null hypothesis (H0) and the alternative hypothesis (H1), and then testing the strength of the evidence against the null hypothesis.\n",
    "\n",
    "The null hypothesis is the default hypothesis that there is no difference or no effect, while the alternative hypothesis is the hypothesis that there is a difference or effect. Hypothesis testing is used to determine whether there is enough evidence to reject the null hypothesis in favor of the alternative hypothesis.\n",
    "\n",
    "Hypothesis testing is important because it allows us to draw conclusions about a population based on sample data. It helps us to make decisions about treatments, policies, and other important issues. It is also used to test scientific theories and to establish scientific facts. Hypothesis testing provides a rigorous and systematic way of analyzing data and drawing valid conclusions."
   ]
  },
  {
   "cell_type": "markdown",
   "id": "ac189f94",
   "metadata": {},
   "source": [
    " Q4. Create a hypothesis that states whether the average weight of male college students is greater than\n",
    "the average weight of female college students."
   ]
  },
  {
   "cell_type": "markdown",
   "id": "b035fab3",
   "metadata": {},
   "source": [
    "Null Hypothesis (H0): The average weight of male college students is equal to or less than the average weight of female college students.\n",
    "\n",
    "Alternative Hypothesis (HA): The average weight of male college students is greater than the average weight of female college students.\n",
    "\n",
    "In statistical terms, this can be expressed as:\n",
    "\n",
    "H0: μm ≤ μf\n",
    "HA: μm > μf"
   ]
  },
  {
   "cell_type": "markdown",
   "id": "2b7adbd3",
   "metadata": {},
   "source": [
    "Q5. Write a Python script to conduct a hypothesis test on the difference between two population means,\n",
    "given a sample from each population."
   ]
  },
  {
   "cell_type": "code",
   "execution_count": 108,
   "id": "d97e5bc6",
   "metadata": {},
   "outputs": [
    {
     "name": "stdout",
     "output_type": "stream",
     "text": [
      "Sample 1 mean: 50.61\n",
      "Sample 2 mean: 49.22\n",
      "Sample 1 std dev: 8.85\n",
      "Sample 2 std dev: 7.46\n",
      "t-test statistic: 1.19\n",
      "p-value: 0.2357\n"
     ]
    }
   ],
   "source": [
    "import numpy as np\n",
    "from scipy.stats import ttest_ind\n",
    "np.random.seed(1)\n",
    "sample1=np.random.normal(loc=50,scale=10,size=100)\n",
    "sample2=np.random.normal(loc=48,scale=8,size=100)\n",
    "\n",
    "mean1=np.mean(sample1)\n",
    "mean2=np.mean(sample2)\n",
    "std1=np.std(sample1)\n",
    "std2=np.std(sample2)\n",
    "\n",
    "t_stat,p_value=ttest_ind(sample1,sample2,equal_var=False)\n",
    "\n",
    "print(\"Sample 1 mean: {:.2f}\".format(mean1))\n",
    "print(\"Sample 2 mean: {:.2f}\".format(mean2))\n",
    "print(\"Sample 1 std dev: {:.2f}\".format(std1))\n",
    "print(\"Sample 2 std dev: {:.2f}\".format(std2))\n",
    "print(\"t-test statistic: {:.2f}\".format(t_stat))\n",
    "print(\"p-value: {:.4f}\".format(p_value))"
   ]
  },
  {
   "cell_type": "markdown",
   "id": "a8d23275",
   "metadata": {},
   "source": [
    "Q6: What is a null and alternative hypothesis? Give some examples."
   ]
  },
  {
   "cell_type": "markdown",
   "id": "20fb15ea",
   "metadata": {},
   "source": [
    "In statistical hypothesis testing, a null hypothesis is a statement that there is no significant difference between a set of observations or data samples. It is usually denoted by H0. The alternative hypothesis, denoted by H1, is a statement that contradicts the null hypothesis.\n",
    "\n",
    "For example, let's say we want to test if a new drug is effective in treating a disease.\n",
    "\n",
    "The null hypothesis could be: \"The new drug is not more effective than the existing drug in treating the disease.\"\n",
    "The alternative hypothesis would then be: \"The new drug is more effective than the existing drug in treating the disease.\"\n",
    "\n",
    "Another example could be testing if a coin is fair:\n",
    "\n",
    "The null hypothesis could be: \"The coin is fair and has an equal probability of landing heads or tails.\"\n",
    "The alternative hypothesis would then be: \"The coin is not fair and does not have an equal probability of landing heads or tails.\""
   ]
  },
  {
   "cell_type": "markdown",
   "id": "a94037f4",
   "metadata": {},
   "source": [
    "\n",
    "Q7: Write down the steps involved in hypothesis testing."
   ]
  },
  {
   "cell_type": "markdown",
   "id": "a3777dfb",
   "metadata": {},
   "source": [
    "State the null and alternative hypotheses\n",
    "\n",
    "Determine the level of significance (alpha)\n",
    "\n",
    "Select the appropriate test statistic and calculate its value\n",
    "\n",
    "Determine the p-value associated with the test statistic\n",
    "\n",
    "Compare the p-value to the level of significance and make a decision\n",
    "\n",
    "State a conclusion in terms of the problem."
   ]
  },
  {
   "cell_type": "markdown",
   "id": "155ed2bb",
   "metadata": {},
   "source": [
    "Q8. Define p-value and explain its significance in hypothesis testing."
   ]
  },
  {
   "cell_type": "markdown",
   "id": "10f23e6f",
   "metadata": {},
   "source": [
    "The p-value is the probability of observing a test statistic at least as extreme as the one computed from the sample, assuming the null hypothesis is true. In other words, it measures the evidence against the null hypothesis.\n",
    "\n",
    "In hypothesis testing, a significance level is chosen, typically denoted as α (alpha). The p-value is then compared to the significance level. If the p-value is less than or equal to the significance level, the null hypothesis is rejected in favor of the alternative hypothesis. On the other hand, if the p-value is greater than the significance level, we fail to reject the null hypothesis.\n",
    "\n",
    "The significance of the p-value in hypothesis testing is that it provides a measure of the strength of evidence against the null hypothesis. If the p-value is very small, it suggests that the null hypothesis is unlikely to be true, and we can have more confidence in our alternative hypothesis. Conversely, if the p-value is large, it suggests that the null hypothesis is plausible, and we should not reject it."
   ]
  },
  {
   "cell_type": "markdown",
   "id": "0b9aa2e5",
   "metadata": {},
   "source": [
    "Q9. Generate a Student's t-distribution plot using Python's matplotlib library, with the degrees of freedom\n",
    "parameter set to 10."
   ]
  },
  {
   "cell_type": "code",
   "execution_count": 144,
   "id": "1880f4a9",
   "metadata": {},
   "outputs": [
    {
     "data": {
      "image/png": "[encoded data removed]",
      "text/plain": [
       "<Figure size 432x288 with 1 Axes>"
      ]
     },
     "metadata": {
      "needs_background": "light"
     },
     "output_type": "display_data"
    }
   ],
   "source": [
    "import numpy as np\n",
    "import matplotlib.pyplot as plt\n",
    "from scipy.stats import t\n",
    "\n",
    "# Set the degrees of freedom parameter\n",
    "df = 10\n",
    "\n",
    "# Create an array of x values\n",
    "x = np.linspace(-4, 4, 1000)\n",
    "\n",
    "# Calculate the y values for the Student's t-distribution\n",
    "y = t.pdf(x, df)\n",
    "\n",
    "\n",
    "# Plot the distribution\n",
    "plt.plot(x, y)\n",
    "\n",
    "# Add labels and a title\n",
    "plt.xlabel('x')\n",
    "plt.ylabel('PDF')\n",
    "plt.title('Student\\'s t-distribution with df = 10')\n",
    "\n",
    "# Display the plot\n",
    "plt.show()"
   ]
  },
  {
   "cell_type": "markdown",
   "id": "550da972",
   "metadata": {},
   "source": [
    "Q10. Write a Python program to calculate the two-sample t-test for independent samples, given two\n",
    "random samples of equal size and a null hypothesis that the population means are equal."
   ]
  },
  {
   "cell_type": "code",
   "execution_count": 145,
   "id": "3a5d0358",
   "metadata": {},
   "outputs": [
    {
     "name": "stdout",
     "output_type": "stream",
     "text": [
      "t-statistic: 2.53\n",
      "p-value: 0.01\n"
     ]
    }
   ],
   "source": [
    "import numpy as np\n",
    "from scipy.stats import ttest_ind\n",
    "\n",
    "# Generate two random samples\n",
    "sample1 = np.random.normal(loc=50, scale=10, size=100)\n",
    "sample2 = np.random.normal(loc=45, scale=12, size=100)\n",
    "\n",
    "# Calculate the t-test for independent samples\n",
    "t_stat, p_value = ttest_ind(sample1, sample2, equal_var=True)\n",
    "\n",
    "# Print the t-statistic and p-value\n",
    "print(\"t-statistic: {:.2f}\".format(t_stat))\n",
    "print(\"p-value: {:.2f}\".format(p_value))\n",
    "\n"
   ]
  },
  {
   "cell_type": "markdown",
   "id": "98e15897",
   "metadata": {},
   "source": [
    "Q11: What is Student’s t distribution? When to use the t-Distribution."
   ]
  },
  {
   "cell_type": "markdown",
   "id": "91ce8a5e",
   "metadata": {},
   "source": [
    "Student's t-distribution, also known as the t-distribution, is a probability distribution that is similar to the standard normal distribution but has heavier tails. It is used when the sample size is small and the population standard deviation is unknown. The t-distribution is used in hypothesis testing to determine the significance of the difference between two sample means. It is also used in the construction of confidence intervals for the population mean when the sample size is small and the population standard deviation is unknown. The t-distribution is parameterized by the degrees of freedom, which depend on the sample size. As the sample size increases, the t-distribution approaches the standard normal distribution."
   ]
  },
  {
   "cell_type": "markdown",
   "id": "8955937a",
   "metadata": {},
   "source": [
    "Q12: What is t-statistic? State the formula for t-statistic."
   ]
  },
  {
   "cell_type": "markdown",
   "id": "03b691fb",
   "metadata": {},
   "source": [
    "t-statistic is a measure used in statistics to test hypotheses about the population mean when the sample size \n",
    "is small (less than 30) and the population standard deviation is unknown. It compares the difference between the sample\n",
    "mean and the hypothesized population mean to the variation in the sample data.\n",
    "\n",
    "The formula for t-statistic is:\n",
    "\n",
    "t = (x̄ - μ) / (s / sqrt(n))\n",
    "\n",
    "where:\n",
    "\n",
    "x̄ is the sample mean\n",
    "\n",
    "μ is the hypothesized population mean\n",
    "\n",
    "s is the sample standard deviation\n",
    "\n",
    "n is the sample size\n",
    "\n",
    "sqrt is the square root function"
   ]
  },
  {
   "cell_type": "markdown",
   "id": "d0f87de6",
   "metadata": {},
   "source": [
    "Q13. A coffee shop owner wants to estimate the average daily revenue for their shop. They take a random\n",
    "sample of 50 days and find the sample mean revenue to be $500  with  a  standard  deviation of  $50.\n",
    "Estimate the population mean revenue with a 95% confidence interval.\n",
    "\n"
   ]
  },
  {
   "cell_type": "code",
   "execution_count": 146,
   "id": "2aa3efdc",
   "metadata": {},
   "outputs": [
    {
     "name": "stdout",
     "output_type": "stream",
     "text": [
      "Estimate the population mean revenue with a 95% confidence interval:(486.1407070887437, 513.8592929112564)\n"
     ]
    }
   ],
   "source": [
    "#given: sample_mean=500,standard_deviation=50,sample_size=50\n",
    "def estimate_population_mean(sample_mean,standard_deviation,samplesize):\n",
    "    std_error=(standard_deviation/samplesize**0.5)\n",
    "    margin_error=1.96*std_error # z=1.96 for CI=1.95\n",
    "    lower_boundary=sample_mean-margin_error\n",
    "    upper_boundary=sample_mean+margin_error\n",
    "    return lower_boundary,upper_boundary\n",
    "print(f\"Estimate the population mean revenue with a 95% confidence interval:{estimate_population_mean(500,50,50)}\")"
   ]
  },
  {
   "cell_type": "markdown",
   "id": "c1110e5f",
   "metadata": {},
   "source": [
    "Q14. A researcher hypothesizes that a new drug will decrease blood pressure by 10 mmHg. They conduct a\n",
    "clinical trial with 100 patients and find that the sample mean decrease in blood pressure is 8 mmHg with a\n",
    "standard deviation of 3 mmHg. Test the hypothesis with a significance level of 0.05."
   ]
  },
  {
   "cell_type": "markdown",
   "id": "399593ea",
   "metadata": {},
   "source": [
    "To test the hypothesis, we can use a one-sample t-test.\n",
    "\n",
    "Null hypothesis: The true mean decrease in blood pressure is not significantly different from 10 mmHg.\n",
    "Alternative hypothesis: The true mean decrease in blood pressure is significantly less than 10 mmHg.\n",
    "\n",
    "With a sample size of 100, the degrees of freedom is 99 (n-1).\n",
    "\n",
    "The test statistic for the t-test can be calculated as:\n",
    "\n",
    "t = (sample mean - hypothesized mean) / (standard error of the mean)\n",
    "\n",
    "where the standard error of the mean (SEM) is calculated as:\n",
    "\n",
    "SEM = standard deviation / sqrt(sample size)\n",
    "\n",
    "In this case, the sample mean is 8 mmHg, the hypothesized mean is 10 mmHg, the standard deviation is 3 mmHg, and the sample size is 100. Therefore:\n",
    "\n",
    "SEM = 3 / sqrt(100) = 0.3\n",
    "\n",
    "t = (8 - 10) / 0.3 = -6.67\n",
    "\n",
    "Using a t-table with 99 degrees of freedom and a significance level of 0.05, we can find the critical t-value as -1.66 (for a one-tailed test). Since our calculated t-value (-6.67) is less than the critical t-value (-1.66), we reject the null hypothesis and conclude that the true mean decrease in blood pressure is significantly less than 10 mmHg at a significance level of 0.05."
   ]
  },
  {
   "cell_type": "markdown",
   "id": "84185ca9",
   "metadata": {},
   "source": [
    "Q15. An electronics company produces a certain type of product with a mean weight of 5 pounds and a\n",
    "standard deviation of 0.5 pounds. A random sample of 25 products is taken, and the sample mean weight\n",
    "is found to be 4.8 pounds. Test the hypothesis that the true mean weight of the products is less than 5\n",
    "pounds with a significance level of 0.01"
   ]
  },
  {
   "cell_type": "markdown",
   "id": "f26adebc",
   "metadata": {},
   "source": [
    " test the hypothesis, we can use a one-sample t-test.\n",
    "\n",
    "Null hypothesis: The true mean weight of the products is not significantly less than 5 pounds.\n",
    "Alternative hypothesis: The true mean weight of the products is significantly less than 5 pounds.\n",
    "\n",
    "With a sample size of 25, the degrees of freedom is 24 (n-1).\n",
    "\n",
    "The test statistic for the t-test can be calculated as:\n",
    "\n",
    "t = (sample mean - hypothesized mean) / (standard error of the mean)\n",
    "\n",
    "where the standard error of the mean (SEM) is calculated as:\n",
    "\n",
    "SEM = standard deviation / sqrt(sample size)\n",
    "\n",
    "In this case, the sample mean is 4.8 pounds, the hypothesized mean is 5 pounds, the standard deviation is 0.5 pounds, and the sample size is 25. Therefore:\n",
    "\n",
    "SEM = 0.5 / sqrt(25) = 0.1\n",
    "\n",
    "t = (4.8 - 5) / 0.1 = -2\n",
    "\n",
    "Using a t-table with 24 degrees of freedom and a significance level of 0.01, we can find the critical t-value as -2.492 (for a one-tailed test). Since our calculated t-value (-2) is greater than the critical t-value (-2.492), we reject the null hypothesis and conclude that the true mean weight of the products is significantly less than 5 pounds at a significance level of 0.01.\n",
    "\n",
    "This means that there is evidence to suggest that the company may need to adjust their manufacturing process to increase the weight of the products to meet the desired specification. However, further studies may be needed to confirm these findings and determine the specific changes that need to be made."
   ]
  },
  {
   "cell_type": "markdown",
   "id": "52b86fd4",
   "metadata": {},
   "source": [
    "Q16. Two groups of students are given different study materials to prepare for a test. The first group (n1 =\n",
    "30) has a mean score of 80 with a standard deviation of 10, and the second group (n2 = 40) has a mean\n",
    "score of 75 with a standard deviation of 8. Test the hypothesis that the population means for the two\n",
    "groups are equal with a significance level of 0.01.\n",
    "which formula we are using to cal t and please put and sloved it withot code"
   ]
  },
  {
   "cell_type": "markdown",
   "id": "1244e80d",
   "metadata": {},
   "source": [
    "To test the hypothesis that the population means for the two groups are equal, we can use a two-sample t-test.\n",
    "\n",
    "Null hypothesis: The population means for the two groups are equal.\n",
    "Alternative hypothesis: The population means for the two groups are not equal.\n",
    "\n",
    "The formula for calculating the t-statistic for a two-sample t-test is:\n",
    "\n",
    "t = (x̄1 - x̄2) / (SE)\n",
    "\n",
    "where x̄1 is the sample mean for group 1, x̄2 is the sample mean for group 2, and SE is the standard error of the difference between the means.\n",
    "\n",
    "The formula for the standard error of the difference between the means is:\n",
    "\n",
    "SE = sqrt[(s1^2 / n1) + (s2^2 / n2)]\n",
    "\n",
    "where s1 and s2 are the sample standard deviations for groups 1 and 2, respectively, and n1 and n2 are the sample sizes for groups 1 and 2, respectively.\n",
    "\n",
    "Plugging in the given values for the two groups, we get:\n",
    "\n",
    "x̄1 = 80, s1 = 10, n1 = 30\n",
    "x̄2 = 75, s2 = 8, n2 = 40\n",
    "\n",
    "SE = sqrt[(10^2 / 30) + (8^2 / 40)] = 2.353\n",
    "\n",
    "t = (80 - 75) / 2.353 = 2.121\n",
    "\n",
    "Using a t-table with degrees of freedom = n1 + n2 - 2 = 68 and a significance level of 0.01 (two-tailed test), the critical t-value is ±2.617. Since the calculated t-value (2.121) is within the range of -2.617 to +2.617, we fail to reject the null hypothesis and conclude that there is not enough evidence to suggest that the population means for the two groups are different at a significance level of 0.01.\n",
    "\n",
    "Therefore, we can conclude that there is no significant difference between the performance of the two groups based on the given data."
   ]
  },
  {
   "cell_type": "markdown",
   "id": "fe0ec701",
   "metadata": {},
   "source": [
    "Q17. A marketing company wants to estimate the average number of ads watched by viewers during a TV\n",
    "program. They take a random sample of 50 viewers and find that the sample mean is 4 with a standard\n",
    "deviation of 1.5. Estimate the population mean with a 99% confidence interval."
   ]
  },
  {
   "cell_type": "code",
   "execution_count": 147,
   "id": "f324a6c8",
   "metadata": {},
   "outputs": [
    {
     "name": "stdout",
     "output_type": "stream",
     "text": [
      "Estimate the population mean revenue with a 99% confidence interval:(3.452699351361612, 4.547300648638387)\n"
     ]
    }
   ],
   "source": [
    "def estimate_population_mean(sample_mean,standard_deviation,samplesize):\n",
    "    std_error=(standard_deviation/samplesize**0.5)\n",
    "    margin_error=2.58*std_error # z=2.58 for CI=99%\n",
    "    lower_boundary=sample_mean-margin_error\n",
    "    upper_boundary=sample_mean+margin_error\n",
    "    return lower_boundary,upper_boundary\n",
    "print(f\"Estimate the population mean revenue with a 99% confidence interval:{estimate_population_mean(4,1.5,50)}\")"
   ]
  },
  {
   "cell_type": "code",
   "execution_count": null,
   "id": "ad254789",
   "metadata": {},
   "outputs": [],
   "source": []
  }
 ],
 "metadata": {
  "kernelspec": {
   "display_name": "Python 3 (ipykernel)",
   "language": "python",
   "name": "python3"
  },
  "language_info": {
   "codemirror_mode": {
    "name": "ipython",
    "version": 3
   },
   "file_extension": ".py",
   "mimetype": "text/x-python",
   "name": "python",
   "nbconvert_exporter": "python",
   "pygments_lexer": "ipython3",
   "version": "3.9.12"
  }
 },
 "nbformat": 4,
 "nbformat_minor": 5
}
