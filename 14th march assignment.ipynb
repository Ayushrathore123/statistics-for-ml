{
 "cells": [
  {
   "cell_type": "code",
   "execution_count": 19,
   "id": "5586c25e",
   "metadata": {},
   "outputs": [],
   "source": [
    "Q1. Write a Python function that takes in two arrays of data and calculates the F-value for a variance ratio\n",
    "test. The function should return the F-value and the corresponding p-value for the test\n"
   ]
  },
  {
   "cell_type": "code",
   "execution_count": 5,
   "id": "748d79ce",
   "metadata": {},
   "outputs": [
    {
     "name": "stdout",
     "output_type": "stream",
     "text": [
      "F-test: 4.3871, P-value: 0.9809\n"
     ]
    }
   ],
   "source": [
    "import scipy.stats as stats \n",
    "import numpy as np\n",
    "\n",
    "def variation_ratio_test(data1,data2):\n",
    "    \n",
    "    var1=np.var(data1)\n",
    "    var2=np.var(data2)\n",
    "    f_test=var1/var2\n",
    "    p_value=stats.f.cdf(f_test,(len(data1)-1),(len(data2)-1))\n",
    "    return f\"F-test: {f_test:.4f}, P-value: {p_value:.4f}\"\n",
    "\n",
    "data1=[18, 19, 22, 25, 27, 28, 41, 45, 51, 55]\n",
    "data2=[14, 15, 15, 17, 18, 22, 25, 25, 27, 34]\n",
    "print(variation_ratio_test(data1,data2))  "
   ]
  },
  {
   "cell_type": "markdown",
   "id": "8148d906",
   "metadata": {},
   "source": [
    "Q2. Given a significance level of 0.05 and the degrees of freedom for the numerator and denominator of an\n",
    "F-distribution, write a Python function that returns the critical F-value for a two-tailed test."
   ]
  },
  {
   "cell_type": "code",
   "execution_count": 8,
   "id": "8176f565",
   "metadata": {},
   "outputs": [],
   "source": [
    "df1=len(data1)-1\n",
    "df2=len(data2)-1\n",
    "alpha=0.05\n"
   ]
  },
  {
   "cell_type": "code",
   "execution_count": 15,
   "id": "84b14bfb",
   "metadata": {},
   "outputs": [],
   "source": [
    "critical_value=stats.f.ppf(q=1-aplha,dfn=df1,dfd=df2)"
   ]
  },
  {
   "cell_type": "code",
   "execution_count": 20,
   "id": "3e2bce16",
   "metadata": {},
   "outputs": [
    {
     "name": "stdout",
     "output_type": "stream",
     "text": [
      "crtical_value:3.1789\n"
     ]
    }
   ],
   "source": [
    "print(f\"crtical_value:{critical_value:.4f}\")"
   ]
  },
  {
   "cell_type": "markdown",
   "id": "8f6a035e",
   "metadata": {},
   "source": [
    "Q3. Write a Python program that generates random samples from two normal distributions with known\n",
    "variances and uses an F-test to determine if the variances are equal. The program should output the Fvalue, degrees of freedom, and p-value for the test."
   ]
  },
  {
   "cell_type": "code",
   "execution_count": 60,
   "id": "22fc9136",
   "metadata": {},
   "outputs": [
    {
     "name": "stdout",
     "output_type": "stream",
     "text": [
      "f-value:0.0929\n",
      "p-value:0.7608\n",
      "degree of freedom:(99,99)\n"
     ]
    }
   ],
   "source": [
    "import numpy as np\n",
    "import scipy.stats as stats\n",
    "\n",
    "np.random.seed(123)\n",
    "\n",
    "sample1=np.random.normal(loc=0,scale=1,size=100)\n",
    "sample2=np.random.normal(loc=0,scale=1.5,size=100)\n",
    "\n",
    "f_value,p_value=stats.f_oneway(sample1,sample2)\n",
    "\n",
    "df1=len(sample1)-1\n",
    "df2=len(sample2)-1\n",
    "\n",
    "print(f\"f-value:{f_value:.4f}\")\n",
    "print(f\"p-value:{p_value:.4f}\")\n",
    "print(f\"degree of freedom:({df1},{df2})\")"
   ]
  },
  {
   "cell_type": "markdown",
   "id": "cb2c0291",
   "metadata": {},
   "source": [
    "Q4.The variances of two populations are known to be 10 and 15. A sample of 12 observations is taken from\n",
    "each population. Conduct an F-test at the 5% significance level to determine if the variances are\n",
    "significantly different."
   ]
  },
  {
   "cell_type": "code",
   "execution_count": 97,
   "id": "6ff1a566",
   "metadata": {},
   "outputs": [
    {
     "name": "stdout",
     "output_type": "stream",
     "text": [
      "f_test:0.7811\n",
      "Critical_value:2.8179\n",
      "Degree of Freedom:(11)(11)\n",
      "We fail to reject the null hypothesis\n"
     ]
    }
   ],
   "source": [
    "# given\n",
    "var1=10\n",
    "var2=15\n",
    "n=12\n",
    "alpha=0.05\n",
    "np.random.seed(123)\n",
    "sample1=np.random.normal(loc=0,scale=np.sqrt(var1),size=n)\n",
    "sample2=np.random.normal(loc=0,scale=np.sqrt(var2),size=n)\n",
    "\n",
    "# to conduct f_test\n",
    "f_test=np.var(sample1)/np.var(sample2)\n",
    "\n",
    "dof1=n-1\n",
    "dof2=n-1\n",
    "\n",
    "critical_value=stats.f.ppf(1-alpha,dof1,dof2)\n",
    "\n",
    "print(f\"f_test:{f_test:.4f}\")\n",
    "print(f\"Critical_value:{critical_value:.4f}\")\n",
    "print(f\"Degree of Freedom:({dof1})({dof2})\")\n",
    "\n",
    "if f_test>critical_value:\n",
    "    print(\"Reject the Null Hypothesis\")\n",
    "else:\n",
    "    print(\"We fail to reject the null hypothesis\")\n"
   ]
  },
  {
   "cell_type": "markdown",
   "id": "caa71bd9",
   "metadata": {},
   "source": [
    "Q5. A manufacturer claims that the variance of the diameter of a certain product is 0.005. A sample of 25\n",
    "products is taken, and the sample variance is found to be 0.006. Conduct an F-test at the 1% significance\n",
    "level to determine if the claim is justified"
   ]
  },
  {
   "cell_type": "code",
   "execution_count": 96,
   "id": "5c086d04",
   "metadata": {},
   "outputs": [
    {
     "name": "stdout",
     "output_type": "stream",
     "text": [
      "f_test:0.8333\n",
      "Critical_value:2.6591\n",
      "Degree of Freedom:(24)(24)\n",
      "We fail to reject the null hypothesis\n"
     ]
    }
   ],
   "source": [
    "#given\n",
    "n=25\n",
    "alpha=0.01\n",
    "var1=0.005\n",
    "var2=0.006\n",
    "\n",
    "f_test=var1/var2\n",
    "\n",
    "df1=n-1\n",
    "df2=n-1\n",
    "\n",
    "critical_value=stats.f.ppf(1-alpha,df1,df2)\n",
    "\n",
    "print(f\"f_test:{f_test:.4f}\")\n",
    "print(f\"Critical_value:{critical_value:.4f}\")\n",
    "print(f\"Degree of Freedom:({df1})({df2})\")\n",
    "\n",
    "if f_test>critical_value:\n",
    "    print(\"Reject the Null Hypothesis\")\n",
    "else:\n",
    "    print(\"We fail to reject the null hypothesis\")"
   ]
  },
  {
   "cell_type": "markdown",
   "id": "8be1277d",
   "metadata": {},
   "source": [
    "Q6. Write a Python function that takes in the degrees of freedom for the numerator and denominator of an\n",
    "F-distribution and calculates the mean and variance of the distribution. The function should return the\n",
    "mean and variance as a tuple."
   ]
  },
  {
   "cell_type": "code",
   "execution_count": 100,
   "id": "232bc469",
   "metadata": {},
   "outputs": [
    {
     "name": "stdout",
     "output_type": "stream",
     "text": [
      "(1.25, 1.3541666666666667)\n"
     ]
    }
   ],
   "source": [
    "def f_dist_mean_var(numerator_dof, denominator_dof):\n",
    "    \"\"\"\n",
    "    Calculates the mean and variance of an F-distribution given the degrees of freedom for the numerator and denominator.\n",
    "    \n",
    "    Parameters:\n",
    "    numerator_dof (int): Degrees of freedom for the numerator.\n",
    "    denominator_dof (int): Degrees of freedom for the denominator.\n",
    "    \n",
    "    Returns:\n",
    "    (mean, variance) (tuple): Mean and variance of the F-distribution.\n",
    "    \"\"\"\n",
    "    mean = denominator_dof / (denominator_dof - 2)\n",
    "    variance = (2 * denominator_dof ** 2 * (numerator_dof + denominator_dof - 2)) / (numerator_dof * (denominator_dof - 2) ** 2 * (denominator_dof - 4))\n",
    "    return (mean, variance)\n",
    "print(f_dist_mean_var(5,10))"
   ]
  },
  {
   "cell_type": "markdown",
   "id": "2bd4040b",
   "metadata": {},
   "source": [
    "Q7. A random sample of 10 measurements is taken from a normal population with unknown variance. The\n",
    "sample variance is found to be 25. Another random sample of 15 measurements is taken from another\n",
    "normal population with unknown variance, and the sample variance is found to be 20. Conduct an F-test\n",
    "at the 10% significance level to determine if the variances are significantly different."
   ]
  },
  {
   "cell_type": "code",
   "execution_count": 112,
   "id": "7c6c3569",
   "metadata": {},
   "outputs": [
    {
     "name": "stdout",
     "output_type": "stream",
     "text": [
      "f_test:1.2500\n",
      "Critical_value:2.6458\n",
      "Degree of Freedom:(9)(14)\n",
      "We fail to reject the null hypothesis\n"
     ]
    }
   ],
   "source": [
    "# given \n",
    "n1=10\n",
    "sample_variance =25\n",
    "population_variance=20\n",
    "n2=15\n",
    "aplha =0.1\n",
    "\n",
    "f_test=sample_variance/population_variance\n",
    "\n",
    "df1=n1-1\n",
    "df2=n2-1\n",
    "\n",
    "critical_value=stats.f.ppf(1-aplha/2 ,df1,df2)\n",
    "\n",
    "print(f\"f_test:{f_test:.4f}\")\n",
    "print(f\"Critical_value:{critical_value:.4f}\")\n",
    "print(f\"Degree of Freedom:({df1})({df2})\")\n",
    "\n",
    "if f_test>critical_value:\n",
    "    print(\"Reject the Null Hypothesis\")\n",
    "else:\n",
    "    print(\"We fail to reject the null hypothesis\")"
   ]
  },
  {
   "cell_type": "markdown",
   "id": "e2ead031",
   "metadata": {},
   "source": [
    "Q8. The following data represent the waiting times in minutes at two different restaurants on a Saturday\n",
    "night: Restaurant A: 24, 25, 28, 23, 22, 20, 27; Restaurant B: 31, 33, 35, 30, 32, 36. Conduct an F-test at the 5%\n",
    "significance level to determine if the variances are significantly different."
   ]
  },
  {
   "cell_type": "code",
   "execution_count": 120,
   "id": "7a30ec4a",
   "metadata": {},
   "outputs": [
    {
     "name": "stdout",
     "output_type": "stream",
     "text": [
      "f_test:1.4968\n",
      "Critical_value:3.4045\n",
      "Degree of Freedom:(6)(5)\n",
      "We fail to reject the null hypothesis\n"
     ]
    }
   ],
   "source": [
    "#given\n",
    "Restaurant_A= [24, 25, 28, 23, 22, 20, 27]\n",
    "Restaurant_B=[31, 33, 35, 30, 32, 36.]\n",
    "alpha=0.05\n",
    "#to cal f_test we have to find variance of given sample\n",
    "f_test=np.var(Restaurant_A)/np.var(Restaurant_B)\n",
    "\n",
    "#then we have to cal degree of freedom\n",
    "dofA=len(Restaurant_A)-1\n",
    "dofB=len(Restaurant_B)-1\n",
    "\n",
    "#the we have to find critical value\n",
    "critical_value=stats.f.ppf(1-aplha,dofA,dofB)\n",
    "\n",
    "print(f\"f_test:{f_test:.4f}\")\n",
    "print(f\"Critical_value:{critical_value:.4f}\")\n",
    "print(f\"Degree of Freedom:({dofA})({dofB})\")\n",
    "\n",
    "if f_test>critical_value:\n",
    "    print(\"Reject the Null Hypothesis\")\n",
    "else:\n",
    "    print(\"We fail to reject the null hypothesis\")"
   ]
  },
  {
   "cell_type": "markdown",
   "id": "eb93e042",
   "metadata": {},
   "source": [
    "Q9. The following data represent the test scores of two groups of students: Group A: 80, 85, 90, 92, 87, 83;\n",
    "Group B: 75, 78, 82, 79, 81, 84. Conduct an F-test at the 1% significance level to determine if the variances\n",
    "are significantly different."
   ]
  },
  {
   "cell_type": "code",
   "execution_count": 128,
   "id": "17c0c484",
   "metadata": {},
   "outputs": [
    {
     "name": "stdout",
     "output_type": "stream",
     "text": [
      "f_test:1.9443\n",
      "Critical_value:14.9396\n",
      "Degree of Freedom:(5)(5)\n",
      "We fail to reject the null hypothesis\n"
     ]
    }
   ],
   "source": [
    "Group_A= [80, 85, 90, 92, 87, 83]\n",
    "Group_B=[75, 78, 82, 79, 81, 84]\n",
    "alpha = 0.01\n",
    "\n",
    "f_test=np.var(Group_A)/np.var(Group_B)\n",
    "\n",
    "#then we have t find degree of freeodom for critical vallue\n",
    "\n",
    "dofa=len(Group_A)-1\n",
    "dofb=len(Group_B)-1\n",
    "\n",
    "critical_value=stats.f.ppf(1-alpha/2,dofa,dofb)\n",
    "\n",
    "print(f\"f_test:{f_test:.4f}\")\n",
    "print(f\"Critical_value:{critical_value:.4f}\")\n",
    "print(f\"Degree of Freedom:({dofa})({dofb})\")\n",
    "\n",
    "if f_test>critical_value:\n",
    "    print(\"Reject the Null Hypothesis\")\n",
    "else:\n",
    "    print(\"We fail to reject the null hypothesis\")"
   ]
  },
  {
   "cell_type": "code",
   "execution_count": null,
   "id": "ad3356d4",
   "metadata": {},
   "outputs": [],
   "source": []
  }
 ],
 "metadata": {
  "kernelspec": {
   "display_name": "Python 3 (ipykernel)",
   "language": "python",
   "name": "python3"
  },
  "language_info": {
   "codemirror_mode": {
    "name": "ipython",
    "version": 3
   },
   "file_extension": ".py",
   "mimetype": "text/x-python",
   "name": "python",
   "nbconvert_exporter": "python",
   "pygments_lexer": "ipython3",
   "version": "3.9.12"
  }
 },
 "nbformat": 4,
 "nbformat_minor": 5
}
