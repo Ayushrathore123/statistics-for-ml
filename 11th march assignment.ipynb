{
 "cells": [
  {
   "cell_type": "markdown",
   "id": "63f06fd9",
   "metadata": {},
   "source": [
    "Q1: What is the difference between a t-test and a z-test? Provide an example scenario where you would\n",
    "use each type of test."
   ]
  },
  {
   "cell_type": "markdown",
   "id": "3fdac3e9",
   "metadata": {},
   "source": [
    "Population variance:\n",
    "T-tests assume an unknown population variance, while z-tests assume a known population variance. In practice, the population variance is usually unknown, so t-tests are more commonly used.\n",
    "\n",
    "Sample size:\n",
    "T-tests are typically used when the sample size is small (less than 30), while z-tests are used when the sample size is large (greater than 30).\n",
    "\n",
    "Hypothesis testing:\n",
    "T-tests are used to test hypotheses about a single population mean, while z-tests are used to test hypotheses about the difference between two population means.\n",
    "\n",
    "Example scenarios:\n",
    "\n",
    "T-test: Suppose you want to determine whether the average weight of students in a particular school is significantly different from 150 pounds. You could take a random sample of 20 students and use a t-test to test the hypothesis that the mean weight of the population is 150 pounds.\n",
    "\n",
    "Z-test: Suppose you want to determine whether there is a significant difference between the mean salary of male and female employees in a company. You could take a random sample of 100 male employees and 100 female employees and use a z-test to test the hypothesis that the difference between the means is zero."
   ]
  },
  {
   "cell_type": "markdown",
   "id": "3927e80f",
   "metadata": {},
   "source": [
    "Q2: Differentiate between one-tailed and two-tailed tests."
   ]
  },
  {
   "cell_type": "markdown",
   "id": "18611c21",
   "metadata": {},
   "source": [
    "In a one-tailed test, the null hypothesis is tested against an alternative hypothesis in a single direction. For example, a one-tailed test might test whether a new drug is more effective than an existing drug (alternative hypothesis), but not whether it is less effective (null hypothesis).\n",
    "\n",
    "In a two-tailed test, the null hypothesis is tested against an alternative hypothesis in both directions. For example, a two-tailed test might test whether a new drug is simply different from an existing drug (alternative hypothesis) without specifying whether it is more or less effective (null hypothesis)."
   ]
  },
  {
   "cell_type": "markdown",
   "id": "5aef4ff9",
   "metadata": {},
   "source": [
    "Q3: Explain the concept of Type 1 and Type 2 errors in hypothesis testing. Provide an example scenario for\n",
    "each type of error."
   ]
  },
  {
   "cell_type": "markdown",
   "id": "08f1bb30",
   "metadata": {},
   "source": [
    "Type 1 error occurs when we reject the null hypothesis when it is actually true. In other words, we conclude that there is a significant effect or relationship when there is not one. The probability of making a Type 1 error is denoted by alpha (α) and is usually set at 0.05 or 0.01.\n",
    "Example scenario: A medical researcher concludes that a new drug is effective in treating a particular disease when it is not, leading to patients receiving an ineffective treatment.\n",
    "\n",
    "Type 2 error occurs when we fail to reject the null hypothesis when it is actually false. In other words, we fail to conclude that there is a significant effect or relationship when there is one. The probability of making a Type 2 error is denoted by beta (β) and is affected by sample size, effect size, and the level of significance.\n",
    "Example scenario: A medical researcher fails to detect a significant difference in the effectiveness of two treatments when there is actually a difference, leading to patients not receiving the most effective treatment."
   ]
  },
  {
   "cell_type": "markdown",
   "id": "050b5bc6",
   "metadata": {},
   "source": [
    "  Q4:  Explain Bayes's theorem with an example."
   ]
  },
  {
   "cell_type": "markdown",
   "id": "c76d7e22",
   "metadata": {},
   "source": [
    "Bayes's theorem is a mathematical formula used in probability theory to update the probability of an event occurring based on new evidence. It is named after the Reverend Thomas Bayes.\n",
    "\n",
    "The formula for Bayes's theorem is:\n",
    "\n",
    "P(A|B) = P(B|A) * P(A) / P(B)\n",
    "\n",
    "where:\n",
    "\n",
    "P(A|B) is the probability of event A occurring given that event B has occurred.\n",
    "P(B|A) is the probability of event B occurring given that event A has occurred.\n",
    "P(A) is the prior probability of event A occurring.\n",
    "P(B) is the prior probability of event B occurring.\n",
    "Example scenario:\n",
    "\n",
    "Suppose we want to estimate the probability that a person has a certain disease, given that they test positive for it. We know that the disease occurs in 1% of the population (prior probability P(A) = 0.01), and that the test has a 95% accuracy rate, meaning that the probability of a false positive (testing positive when the person does not have the disease) is 5% (P(B|¬A) = 0.05) and the probability of a true positive (testing positive when the person has the disease) is 95% (P(B|A) = 0.95).\n",
    "\n",
    "Using Bayes's theorem, we can calculate the probability of a person having the disease given that they test positive:\n",
    "\n",
    "P(A|B) = P(B|A) * P(A) / P(B)\n",
    "\n",
    "P(A|B) = 0.95 * 0.01 / ((0.95 * 0.01) + (0.05 * 0.99))\n",
    "\n",
    "P(A|B) = 0.161\n",
    "\n",
    "This means that if a person tests positive for the disease, their probability of actually having the disease is 16.1%."
   ]
  },
  {
   "cell_type": "markdown",
   "id": "50cbf62d",
   "metadata": {},
   "source": [
    "Q5: What is a confidence interval? How to calculate the confidence interval, explain with an example."
   ]
  },
  {
   "cell_type": "markdown",
   "id": "679525e6",
   "metadata": {},
   "source": [
    "A confidence interval is a range of values that is likely to contain the true population parameter with a certain degree of confidence. It is a statistical tool that helps us estimate the precision of our sample estimate and the uncertainty of the true population parameter.\n",
    "\n",
    "\n",
    "For example, suppose we want to estimate the average height of students in a school. We take a sample of 50 students and find that the average height is 65 inches with a standard deviation of 3 inches. We want to calculate a 95% confidence interval for the true population mean height.\n",
    "\n",
    "Using the formula, we get:\n",
    "\n",
    "CI = 65 ± 1.96 * (3/√50)\n",
    "\n",
    "CI = 65 ± 0.83\n",
    "\n",
    "Therefore, we can say with 95% confidence that the true population mean height of the students lies between 64.17 and 65.83 inches."
   ]
  },
  {
   "cell_type": "markdown",
   "id": "4c5fa67f",
   "metadata": {},
   "source": [
    "Q6. Use Bayes' Theorem to calculate the probability of an event occurring given prior knowledge of the\n",
    "event's probability and new evidence. Provide a sample problem and solution."
   ]
  },
  {
   "cell_type": "markdown",
   "id": "0a89ca71",
   "metadata": {},
   "source": [
    "Bayes' Theorem is used to update the probability of an event occurring based on new evidence. The theorem is expressed as:\n",
    "\n",
    "P(A|B) = P(B|A) * P(A) / P(B)\n",
    "\n",
    "where P(A|B) is the probability of event A occurring given the new evidence B, P(B|A) is the probability of observing the evidence B given that A has occurred, P(A) is the prior probability of event A, and P(B) is the prior probability of observing evidence B.\n",
    "\n",
    "A simple example problem to illustrate Bayes' Theorem is as follows:\n",
    "\n",
    "Suppose a company produces two types of laptops, A and B. Type A laptops have a 20% defect rate, while Type B laptops have a 10% defect rate. A customer purchases a laptop from the company and discovers that it has a defect. What is the probability that the laptop is a Type A laptop?\n",
    "\n",
    "Using Bayes' Theorem, we can calculate the probability as follows:\n",
    "\n",
    "P(A|D) = P(D|A) * P(A) / P(D)\n",
    "\n",
    "where P(A|D) is the probability that the laptop is a Type A laptop given the defect D, P(D|A) is the probability of observing the defect D given that the laptop is a Type A laptop, P(A) is the prior probability of the laptop being a Type A laptop (in this case 0.5, assuming equal numbers of each type), and P(D) is the overall probability of observing the defect (in this case 0.20.5 + 0.10.5 = 0.15, assuming equal numbers of each type).\n",
    "\n",
    "Plugging in the values, we get:\n",
    "\n",
    "P(A|D) = 0.2 * 0.5 / 0.15 = 0.67\n",
    "\n",
    "So the probability that the laptop is a Type A laptop given the defect is 67%."
   ]
  },
  {
   "cell_type": "markdown",
   "id": "e11ce326",
   "metadata": {},
   "source": [
    "Q7. Calculate the 95% confidence interval for a sample of data with a mean of 50 and a standard deviation\n",
    "of 5. Interpret the results."
   ]
  },
  {
   "cell_type": "markdown",
   "id": "654bac3c",
   "metadata": {},
   "source": [
    "\n",
    "\n",
    "To calculate the 95% confidence interval for a sample of data with a mean of 50 and a standard deviation of 5, we need to use the following formula:\n",
    "\n",
    "95% confidence interval = sample mean ± (1.96 × standard error)\n",
    "\n",
    "Where the standard error is calculated as:\n",
    "\n",
    "standard error = standard deviation / √sample size\n",
    "\n",
    "Assuming a sample size of 30, we get:\n",
    "\n",
    "standard error = 5 / √30 ≈ 0.91\n",
    "\n",
    "Now, substituting the values in the formula, we get:\n",
    "\n",
    "95% confidence interval = 50 ± (1.96 × 0.91) ≈ (48.22, 51.78)\n",
    "\n",
    "Interpretation: We are 95% confident that the true population mean lies between 48.22 and 51.78 based on the given sample data.\n",
    "\n",
    "\n",
    "\n",
    "\n",
    "\n"
   ]
  },
  {
   "cell_type": "markdown",
   "id": "62c1124d",
   "metadata": {},
   "source": [
    "Q8. What is the margin of error in a confidence interval? How does sample size affect the margin of error?\n",
    "Provide an example of a scenario where a larger sample size would result in a smaller margin "
   ]
  },
  {
   "cell_type": "markdown",
   "id": "d2e7bd35",
   "metadata": {},
   "source": [
    "The margin of error is the range of values above and below the point estimate in a confidence interval. It represents the amount of uncertainty in the estimate and is affected by sample size, level of confidence, and standard deviation. A larger sample size will typically result in a smaller margin of error, as the sample mean becomes a more accurate representation of the population mean.\n",
    "\n",
    "For example, if a survey of 500 people found that 60% of them prefer Brand A, with a margin of error of +/- 4%, this means that the true proportion of people who prefer Brand A falls within the range of 56% to 64% with 95% confidence. If the same survey was conducted with a larger sample size of 1000 people, the margin of error would be smaller, say +/- 2.8%, resulting in a narrower range of 57.2% to 62.8%. This indicates a higher level of confidence in the estimate with a larger sample size."
   ]
  },
  {
   "cell_type": "markdown",
   "id": "ecbf8b04",
   "metadata": {},
   "source": [
    "Q9. Calculate the z-score for a data point with a value of 75, a population mean of 70, and a population\n",
    "standard deviation of 5. Interpret the results.."
   ]
  },
  {
   "cell_type": "markdown",
   "id": "c33be294",
   "metadata": {},
   "source": [
    "The z-score is calculated as:\n",
    "\n",
    "z = (x - μ) / σ\n",
    "\n",
    "Where:\n",
    "x = data point value\n",
    "μ = population mean\n",
    "σ = population standard deviation\n",
    "\n",
    "Substituting the given values, we get:\n",
    "\n",
    "z = (75 - 70) / 5\n",
    "z = 1\n",
    "\n",
    "The interpretation of the z-score is that the data point is 1 standard deviation above the population mean."
   ]
  },
  {
   "cell_type": "markdown",
   "id": "8d0fcb29",
   "metadata": {},
   "source": [
    "Q10. In a study of the effectiveness of a new weight loss drug, a sample of 50 participants lost an average\n",
    "of 6 pounds with a standard deviation of 2.5 pounds. Conduct a hypothesis test to determine if the drug is\n",
    "significantly effective at a 95% confidence level using a t-test."
   ]
  },
  {
   "cell_type": "markdown",
   "id": "10d3cb5f",
   "metadata": {},
   "source": [
    "To conduct a hypothesis test to determine if the weight loss drug is significantly effective, we need to define the null and alternative hypotheses:\n",
    "\n",
    "Null hypothesis (H0): The weight loss drug is not significantly effective. The population mean weight loss is equal to or less than 0 pounds.\n",
    "Alternative hypothesis (Ha): The weight loss drug is significantly effective. The population mean weight loss is greater than 0 pounds.\n",
    "We can use a one-sample t-test to compare the sample mean with the hypothesized population mean under the null hypothesis.\n",
    "\n",
    "The formula for the t-statistic for a one-sample t-test is:\n",
    "\n",
    "t = (X̄ - μ0) / (s / √n)\n",
    "\n",
    "where:\n",
    "\n",
    "X̄ is the sample mean (given as 6)\n",
    "μ0 is the hypothesized population mean weight loss under the null hypothesis (which is 0)\n",
    "s is the sample standard deviation (given as 2.5)\n",
    "n is the sample size (given as 50)\n",
    "With a 95% confidence level and 49 degrees of freedom (50-1), the critical value for a one-tailed test is 1.677.\n",
    "\n",
    "Now we can plug in the given values to calculate the t-statistic:\n",
    "\n",
    "t = (6 - 0) / (2.5 / √50) = 18.973\n",
    "\n",
    "The calculated t-statistic is much larger than the critical value of 1.677, indicating strong evidence against the null hypothesis. Therefore, we reject the null hypothesis and conclude that the weight loss drug is significantly effective at a 95% confidence level.\n",
    "\n",
    "\n",
    "\n",
    "\n"
   ]
  },
  {
   "cell_type": "markdown",
   "id": "a28249ec",
   "metadata": {},
   "source": [
    "Q11. In a survey of 500 people, 65% reported being satisfied with their current job. Calculate the 95%\n",
    "confidence interval for the true proportion of people who are satisfied with their job."
   ]
  },
  {
   "cell_type": "raw",
   "id": "b8261dc5",
   "metadata": {},
   "source": [
    "To calculate the 95% confidence interval for the true proportion of people who are satisfied with their job, we can use the following formula:\n",
    "\n",
    "CI = X̄ ± z* (σ/√n)\n",
    "\n",
    "where:\n",
    "\n",
    "X̄ is the sample proportion (given as 0.65)\n",
    "z* is the critical value of the standard normal distribution at a 95% confidence level (which is 1.96)\n",
    "σ is the standard error of the proportion, which is calculated as σ = √[ (p * q) / n ], where p is the population proportion and q is the complement of the population proportion (i.e., 1 - p).\n",
    "n is the sample size (given as 500)\n",
    "Substituting the given values, we get:\n",
    "\n",
    "σ = √[ (0.65 * 0.35) / 500 ] = 0.0248\n",
    "\n",
    "CI = 0.65 ± 1.96 * (0.0248 / √500) = 0.65 ± 0.039\n",
    "\n",
    "Therefore, the 95% confidence interval for the true proportion of people who are satisfied with their job is (0.611, 0.689). We can interpret this interval as follows: we are 95% confident that the true proportion of people who are satisfied with their job is between 0.611 and 0.689.\n",
    "\n",
    "\n",
    "\n",
    "\n"
   ]
  },
  {
   "cell_type": "markdown",
   "id": "5431cbee",
   "metadata": {},
   "source": [
    "Q12. A researcher is testing the effectiveness of two different teaching methods on student performance.\n",
    "Sample A has a mean score of 85 with a standard deviation of 6, while sample B has a mean score of 82\n",
    "with a standard deviation of 5. Conduct a hypothesis test to determine if the two teaching methods have a\n",
    "significant difference in student performance using a t-test with a significance level of 0.01."
   ]
  },
  {
   "cell_type": "raw",
   "id": "66c709af",
   "metadata": {},
   "source": [
    "To determine if the two teaching methods have a significant difference in student performance, we need to define the null and alternative hypotheses:\n",
    "\n",
    "Null hypothesis (H0): The two teaching methods have no significant difference in student performance. The population means of the two teaching methods are equal.\n",
    "Alternative hypothesis (Ha): The two teaching methods have a significant difference in student performance. The population means of the two teaching methods are not equal.\n",
    "We can use a two-sample t-test to compare the means of the two independent samples under the null hypothesis.\n",
    "\n",
    "The formula for the t-statistic for a two-sample t-test is:\n",
    "\n",
    "t = (X̄1 - X̄2) / √[ (s1^2 / n1) + (s2^2 / n2) ]\n",
    "\n",
    "where:\n",
    "\n",
    "X̄1 and X̄2 are the sample means (given as 85 and 82, respectively)\n",
    "s1 and s2 are the sample standard deviations (given as 6 and 5, respectively)\n",
    "n1 and n2 are the sample sizes (assuming they are equal, so both are given as n = 30)\n",
    "With a significance level of 0.01 and 58 degrees of freedom (30+30-2), the critical value for a two-tailed test is 2.66.\n",
    "\n",
    "Now we can plug in the given values to calculate the t-statistic:\n",
    "\n",
    "t = (85 - 82) / √[ (6^2 / 30) + (5^2 / 30) ] = 2.289\n",
    "\n",
    "The calculated t-statistic is smaller than the critical value of 2.66, indicating weak evidence against the null hypothesis. Therefore, we fail to reject the null hypothesis and conclude that there is no significant difference in student performance between the two teaching methods at a significance level of 0.01."
   ]
  },
  {
   "cell_type": "markdown",
   "id": "755d08b9",
   "metadata": {},
   "source": [
    "Q13. A population has a mean of 60 and a standard deviation of 8. A sample of 50 observations has a mean\n",
    "of 65. Calculate the 90% confidence interval for the true population mean."
   ]
  },
  {
   "cell_type": "markdown",
   "id": "f2cef2ef",
   "metadata": {},
   "source": [
    "To calculate the 90% confidence interval for the true population mean, we can use the following formula:\n",
    "\n",
    "CI = X̄ ± z*(σ/√n)\n",
    "\n",
    "where:\n",
    "\n",
    "X̄ is the sample mean (given as 65)\n",
    "σ is the population standard deviation (given as 8)\n",
    "n is the sample size (given as 50)\n",
    "z is the z-score for the desired level of confidence (90% confidence interval corresponds to a z-score of 1.645)\n",
    "Plugging in the values, we get:\n",
    "\n",
    "CI = 65 ± 1.645*(8/√50)\n",
    "\n",
    "Simplifying, we get:\n",
    "\n",
    "CI = 65 ± 1.860\n",
    "\n",
    "Therefore, the 90% confidence interval for the true population mean is (63.14, 66.86). We can be 90% confident that the true population mean falls within this interval."
   ]
  },
  {
   "cell_type": "markdown",
   "id": "3705168a",
   "metadata": {},
   "source": [
    "Q14. In a study of the effects of caffeine on reaction time, a sample of 30 participants had an average\n",
    "reaction time of 0.25 seconds with a standard deviation of 0.05 seconds. Conduct a hypothesis test to\n",
    "determine if the caffeine has a significant effect on reaction time at a 90% confidence level using a t-test"
   ]
  },
  {
   "cell_type": "markdown",
   "id": "c9a7ad8d",
   "metadata": {},
   "source": [
    "To conduct a hypothesis test to determine if caffeine has a significant effect on reaction time at a 90% confidence level using a t-test, we need to set up the null and alternative hypotheses.\n",
    "\n",
    "Null hypothesis (H0): The mean reaction time with caffeine is equal to the mean reaction time without caffeine.\n",
    "Alternative hypothesis (Ha): The mean reaction time with caffeine is different than the mean reaction time without caffeine.\n",
    "\n",
    "We can use a two-tailed t-test with a significance level of 0.1 (90% confidence level). The critical t-value with 29 degrees of freedom is ±1.699.\n",
    "\n",
    "Next, we need to calculate the t-statistic:\n",
    "\n",
    "t = (X̄ - μ) / (s / √n)\n",
    "\n",
    "where:\n",
    "\n",
    "X̄ is the sample mean (given as 0.25)\n",
    "μ is the hypothesized population mean (given as 0.27, assuming that the population mean reaction time without caffeine is 0.27 seconds)\n",
    "s is the sample standard deviation (given as 0.05)\n",
    "n is the sample size (given as 30)\n",
    "Plugging in the values, we get:\n",
    "\n",
    "t = (0.25 - 0.27) / (0.05 / √30) = -1.897\n",
    "\n",
    "Since the calculated t-statistic (-1.897) is less than the critical t-value (-1.699), we fail to reject the null hypothesis. This means that we do not have enough evidence to suggest that caffeine has a significant effect on reaction time at a 90% confidence level.\n",
    "\n",
    "\n",
    "\n",
    "\n"
   ]
  },
  {
   "cell_type": "code",
   "execution_count": null,
   "id": "fcc7b259",
   "metadata": {},
   "outputs": [],
   "source": []
  }
 ],
 "metadata": {
  "kernelspec": {
   "display_name": "Python 3 (ipykernel)",
   "language": "python",
   "name": "python3"
  },
  "language_info": {
   "codemirror_mode": {
    "name": "ipython",
    "version": 3
   },
   "file_extension": ".py",
   "mimetype": "text/x-python",
   "name": "python",
   "nbconvert_exporter": "python",
   "pygments_lexer": "ipython3",
   "version": "3.9.12"
  }
 },
 "nbformat": 4,
 "nbformat_minor": 5
}
